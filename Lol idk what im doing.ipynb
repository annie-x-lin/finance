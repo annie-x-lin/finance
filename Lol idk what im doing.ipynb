{
 "cells": [
  {
   "cell_type": "code",
   "execution_count": 7,
   "metadata": {},
   "outputs": [
    {
     "name": "stdout",
     "output_type": "stream",
     "text": [
      "[-1.36721749 -1.99461966  1.38265271 -0.69993214  0.05233716 -0.64206811\n",
      " -1.96073174  2.16167958 -0.40333087 -0.96408366  0.61042649]\n"
     ]
    }
   ],
   "source": [
    "#the easy way\n",
    "import numpy as np\n",
    "mean1=0\n",
    "std1=1\n",
    "sample=np.random.normal(mean1,std1,11)\n",
    "print(sample)"
   ]
  },
  {
   "cell_type": "code",
   "execution_count": 8,
   "metadata": {},
   "outputs": [
    {
     "name": "stdout",
     "output_type": "stream",
     "text": [
      "[-0.78946341 -0.75427212  1.35611758 ...  0.03260615  0.39032631\n",
      "  0.79507851]\n"
     ]
    }
   ],
   "source": [
    "mu, sigma = 0, 1 \n",
    "s = np.random.normal(mu, sigma, 100000000)\n",
    "\n",
    "print(s)"
   ]
  },
  {
   "cell_type": "code",
   "execution_count": 9,
   "metadata": {},
   "outputs": [
    {
     "data": {
      "text/plain": [
       "0.3185909090909181"
      ]
     },
     "execution_count": 9,
     "metadata": {},
     "output_type": "execute_result"
    }
   ],
   "source": [
    "import random\n",
    "#function 1 is just for the average number out of 11 that would be outside of standard deviation \n",
    "def function1(list,n,mean,std):\n",
    "    probability=[]\n",
    "    for z in range(0,n):\n",
    "        within=0\n",
    "        sample1=[]\n",
    "        for x in range (0,11,+1):\n",
    "            sample1.append(random.choice(s))\n",
    "        for y in range(0,len(sample1),+1):\n",
    "            if (mean-std)<sample1[y]<(mean+std):\n",
    "                within+=1\n",
    "        prob=(11-within)/11 #this is the percentage of the sample that is out of standard deviation \n",
    "        probability.append(prob)\n",
    "    average=0\n",
    "    for g in range(0,len(probability),+1):\n",
    "        average+=probability[g]\n",
    "    average=average/len(probability)\n",
    "    return average\n",
    "    \n",
    "function1(s,10000,mean1,std1)"
   ]
  },
  {
   "cell_type": "code",
   "execution_count": null,
   "metadata": {},
   "outputs": [],
   "source": [
    "#the average probability of being outside of 1 standard deviation is 0.32 (3.5 out of 11) "
   ]
  },
  {
   "cell_type": "code",
   "execution_count": 12,
   "metadata": {},
   "outputs": [
    {
     "data": {
      "text/plain": [
       "7.088"
      ]
     },
     "execution_count": 12,
     "metadata": {},
     "output_type": "execute_result"
    }
   ],
   "source": [
    "#on average what is the probability of drawing exactly 6 out of 11 being outside of standard deviation \n",
    "def function2(list,n,mean,std):\n",
    "    probability=[]\n",
    "    for z in range(0,n):\n",
    "        within=0\n",
    "        sample1=[]\n",
    "        for x in range (0,11,+1):\n",
    "            sample1.append(random.choice(s))\n",
    "        for y in range(0,len(sample1),+1):\n",
    "            if (mean-std)<sample1[y]<(mean+std):\n",
    "                within+=1\n",
    "        prob=(11-within)/11\n",
    "        probability.append(prob)\n",
    "    count=0\n",
    "    for g in range (0,len(probability),+1):\n",
    "        if probability[g]==(6/11):\n",
    "            count+=1\n",
    "    prob_of_six=count/n\n",
    "    return prob_of_six*100 \n",
    "\n",
    "function2(s,100000,mean1,std1)"
   ]
  },
  {
   "cell_type": "code",
   "execution_count": 90,
   "metadata": {},
   "outputs": [
    {
     "data": {
      "text/plain": [
       "0.3179000000000085"
      ]
     },
     "execution_count": 90,
     "metadata": {},
     "output_type": "execute_result"
    }
   ],
   "source": [
    "def function4(list,n,mean,std):\n",
    "    probability=[]\n",
    "    for z in range(0,n):\n",
    "        within=0\n",
    "        sample1=np.random.normal(mean,std,11)\n",
    "        for y in range(0,len(sample1),+1):\n",
    "            if (mean-std)<sample1[y]<(mean+std):\n",
    "                within+=1\n",
    "        prob=(11-within)/11\n",
    "        probability.append(prob)\n",
    "    average=0\n",
    "    for g in range(0,len(probability),+1):\n",
    "        average+=probability[g]\n",
    "    average=average/len(probability)\n",
    "    return average\n",
    "    \n",
    "function4(s,10000,mean1,std1)\n"
   ]
  },
  {
   "cell_type": "code",
   "execution_count": 14,
   "metadata": {},
   "outputs": [
    {
     "data": {
      "text/plain": [
       "0.069668"
      ]
     },
     "execution_count": 14,
     "metadata": {},
     "output_type": "execute_result"
    }
   ],
   "source": []
  },
  {
   "cell_type": "code",
   "execution_count": 11,
   "metadata": {},
   "outputs": [
    {
     "data": {
      "image/png": "[encoded data removed]",
      "text/plain": [
       "<Figure size 432x288 with 1 Axes>"
      ]
     },
     "metadata": {
      "needs_background": "light"
     },
     "output_type": "display_data"
    }
   ],
   "source": [
    "import scipy\n",
    "from scipy.stats import binom\n",
    "import matplotlib.pyplot as plt\n",
    "# setting the values\n",
    "# of n and p\n",
    "n = 11\n",
    "p = 0.32\n",
    "# defining the list of r values\n",
    "r_values =[]\n",
    "for x in range (0,n+1,+1):\n",
    "    r_values.append(x)\n",
    "\n",
    "# list of pmf values\n",
    "dist =[]\n",
    "for y in r_values:\n",
    "    dist.append(binom.pmf(y, n, p))\n",
    "\n",
    "plt.bar(r_values,dist)\n",
    "plt.xlabel(\"# of Value Outside of One Standard Deviation\")\n",
    "plt.ylabel(\"Probability\")\n",
    "plt.title(\"Binomial Distribution\")\n",
    "plt.savefig('Binom Distribution')\n",
    "plt.show()\n"
   ]
  },
  {
   "cell_type": "code",
   "execution_count": null,
   "metadata": {},
   "outputs": [],
   "source": []
  }
 ],
 "metadata": {
  "kernelspec": {
   "display_name": "Python 3",
   "language": "python",
   "name": "python3"
  },
  "language_info": {
   "codemirror_mode": {
    "name": "ipython",
    "version": 3
   },
   "file_extension": ".py",
   "mimetype": "text/x-python",
   "name": "python",
   "nbconvert_exporter": "python",
   "pygments_lexer": "ipython3",
   "version": "3.8.8"
  }
 },
 "nbformat": 4,
 "nbformat_minor": 2
}

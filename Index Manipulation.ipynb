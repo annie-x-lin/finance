{
 "cells": [
  {
   "cell_type": "code",
   "execution_count": 96,
   "id": "e830e72a-2daa-489a-b444-af75e1a9318e",
   "metadata": {},
   "outputs": [],
   "source": [
    "import pandas as pd\n",
    "import numpy as np\n",
    "sp500 = pd.read_csv(r\"sp500.csv\", parse_dates=['Date'], index_col=['Date'])"
   ]
  },
  {
   "cell_type": "code",
   "execution_count": 83,
   "id": "f27e2301-3e98-41d1-b668-75d7fd4331d3",
   "metadata": {},
   "outputs": [],
   "source": [
    "def index(dt):\n",
    "    return dt.pct_change().fillna(0)"
   ]
  },
  {
   "cell_type": "code",
   "execution_count": 102,
   "id": "bbd206fc-cf28-48e6-9df4-09ca9f277922",
   "metadata": {},
   "outputs": [],
   "source": [
    "def getIndexData(df):  \n",
    "    mydict={\"Data\":[],\"CAGR\":[],\"SD\":[]} #can add more variable if interested\n",
    "    dt=pd.DataFrame(df).dropna()\n",
    "    for i in dt:\n",
    "        dt[i]=index(dt[i]).dropna()\n",
    "        mydict[\"Data\"].append(i)\n",
    "        \n",
    "        #calculating CAGR\n",
    "        returns=1\n",
    "        for x in dt[i]:\n",
    "            returns=returns*(1+x)\n",
    "        date=(df.index.max()-df.index.min()).days/365\n",
    "        returns=returns**(1/date)+1\n",
    "        mydict[\"CAGR\"].append(returns)\n",
    "        \n",
    "        #calculating STD\n",
    "        SD=np.std(dt[i])\n",
    "        mydict[\"SD\"].append(SD)\n",
    "\n",
    "    result=pd.DataFrame(mydict)\n",
    "    result=result.set_index(\"Data\")\n",
    "    return result"
   ]
  },
  {
   "cell_type": "code",
   "execution_count": 110,
   "id": "30532aa8-83df-4757-b9b9-06e371568a4b",
   "metadata": {},
   "outputs": [
    {
     "data": {
      "text/html": [
       "<div>\n",
       "<style scoped>\n",
       "    .dataframe tbody tr th:only-of-type {\n",
       "        vertical-align: middle;\n",
       "    }\n",
       "\n",
       "    .dataframe tbody tr th {\n",
       "        vertical-align: top;\n",
       "    }\n",
       "\n",
       "    .dataframe thead th {\n",
       "        text-align: right;\n",
       "    }\n",
       "</style>\n",
       "<table border=\"1\" class=\"dataframe\">\n",
       "  <thead>\n",
       "    <tr style=\"text-align: right;\">\n",
       "      <th></th>\n",
       "      <th>CAGR</th>\n",
       "      <th>SD</th>\n",
       "    </tr>\n",
       "    <tr>\n",
       "      <th>Data</th>\n",
       "      <th></th>\n",
       "      <th></th>\n",
       "    </tr>\n",
       "  </thead>\n",
       "  <tbody>\n",
       "    <tr>\n",
       "      <th>Open</th>\n",
       "      <td>2.115242</td>\n",
       "      <td>0.007296</td>\n",
       "    </tr>\n",
       "    <tr>\n",
       "      <th>High</th>\n",
       "      <td>2.116046</td>\n",
       "      <td>0.005802</td>\n",
       "    </tr>\n",
       "    <tr>\n",
       "      <th>Low</th>\n",
       "      <td>2.116677</td>\n",
       "      <td>0.007522</td>\n",
       "    </tr>\n",
       "    <tr>\n",
       "      <th>Close</th>\n",
       "      <td>2.116302</td>\n",
       "      <td>0.007752</td>\n",
       "    </tr>\n",
       "    <tr>\n",
       "      <th>Adj Close</th>\n",
       "      <td>2.116302</td>\n",
       "      <td>0.007752</td>\n",
       "    </tr>\n",
       "    <tr>\n",
       "      <th>Volume</th>\n",
       "      <td>2.007370</td>\n",
       "      <td>0.177665</td>\n",
       "    </tr>\n",
       "  </tbody>\n",
       "</table>\n",
       "</div>"
      ],
      "text/plain": [
       "               CAGR        SD\n",
       "Data                         \n",
       "Open       2.115242  0.007296\n",
       "High       2.116046  0.005802\n",
       "Low        2.116677  0.007522\n",
       "Close      2.116302  0.007752\n",
       "Adj Close  2.116302  0.007752\n",
       "Volume     2.007370  0.177665"
      ]
     },
     "execution_count": 110,
     "metadata": {},
     "output_type": "execute_result"
    }
   ],
   "source": [
    "getIndexData(sp500)"
   ]
  }
 ],
 "metadata": {
  "kernelspec": {
   "display_name": "Python 3",
   "language": "python",
   "name": "python3"
  },
  "language_info": {
   "codemirror_mode": {
    "name": "ipython",
    "version": 3
   },
   "file_extension": ".py",
   "mimetype": "text/x-python",
   "name": "python",
   "nbconvert_exporter": "python",
   "pygments_lexer": "ipython3",
   "version": "3.8.8"
  }
 },
 "nbformat": 4,
 "nbformat_minor": 5
}

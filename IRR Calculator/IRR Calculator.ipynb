{
 "cells": [
  {
   "cell_type": "code",
   "execution_count": 41,
   "id": "3fa0ac77-04d3-4ef1-8ad8-42d4f0bb8f94",
   "metadata": {},
   "outputs": [],
   "source": [
    "import numpy as np\n",
    "from scipy.optimize import fsolve"
   ]
  },
  {
   "cell_type": "code",
   "execution_count": 85,
   "id": "c7c1e3cc-cb15-4d9a-9247-741a1bee89a9",
   "metadata": {},
   "outputs": [],
   "source": [
    "def irr(initial_investment, cash_flow):\n",
    "    def function(t):\n",
    "        expr=0-abs(initial_investment)\n",
    "        for i in range(0,len(cash_flow),+1):\n",
    "            expr+=cash_flow[i]/((1+t)**(i+1))\n",
    "        return expr\n",
    "    res=fsolve(function,0)\n",
    "    if (res<3)&(res>=0):\n",
    "        return res[0]\n",
    "    else: \n",
    "        print(res[0])\n",
    "        return \"error\"\n",
    "        "
   ]
  },
  {
   "cell_type": "code",
   "execution_count": 92,
   "id": "770451ee-14c9-462e-afc7-192c95bf588a",
   "metadata": {},
   "outputs": [
    {
     "name": "stdin",
     "output_type": "stream",
     "text": [
      "Initial investment:  100\n"
     ]
    },
    {
     "name": "stdout",
     "output_type": "stream",
     "text": [
      "Now you will input the cashflow by year. Type stop to end, type restart to restart your inputs\n"
     ]
    },
    {
     "name": "stdin",
     "output_type": "stream",
     "text": [
      "Cash Flow Year 1 :  30\n",
      "Cash Flow Year 2 :  restart\n",
      "Cash Flow Year 1 :  50\n",
      "Cash Flow Year 2 :  60\n",
      "Cash Flow Year 3 :  stop\n"
     ]
    },
    {
     "name": "stdout",
     "output_type": "stream",
     "text": [
      "your IRR is: 0.06394102980498537\n"
     ]
    }
   ],
   "source": [
    "init=float(input(\"Initial investment: \"))\n",
    "cash=[]\n",
    "print(\"Now you will input the cashflow by year. Type stop to end, type restart to restart your inputs\")\n",
    "count=0\n",
    "for i in range(0,100,+1):\n",
    "    flow=input(\"Cash Flow Year \"+str(count+1)+r\" : \")\n",
    "    if flow.lower() == \"restart\":\n",
    "        cash=[]\n",
    "        count=0\n",
    "    else: \n",
    "        try:\n",
    "            flow=float(flow)\n",
    "            cash.append(flow)\n",
    "            count+=1\n",
    "        except:\n",
    "            break\n",
    "print(\"your IRR is: \" + str(irr(init,cash)))"
   ]
  }
 ],
 "metadata": {
  "kernelspec": {
   "display_name": "Python 3",
   "language": "python",
   "name": "python3"
  },
  "language_info": {
   "codemirror_mode": {
    "name": "ipython",
    "version": 3
   },
   "file_extension": ".py",
   "mimetype": "text/x-python",
   "name": "python",
   "nbconvert_exporter": "python",
   "pygments_lexer": "ipython3",
   "version": "3.8.8"
  }
 },
 "nbformat": 4,
 "nbformat_minor": 5
}
